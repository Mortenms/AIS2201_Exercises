{
 "cells": [
  {
   "cell_type": "markdown",
   "id": "4cb201c1-d614-4ec9-b473-4b2ad95ae22c",
   "metadata": {},
   "source": [
    "# Exercise 7: Test Framework for Individual Project\n",
    "\n",
    "In **Exercise 6** we implemented a simple frequency detection algorithm on an STM32, with the aim of detecting the dominant frequency of an analog voltage signal which was measured with the STM32's internal ADC. The frequency detection algorithm in question does the following:\n",
    "\n",
    "1. Divides the input signal $x[n]$  into \"windows\" of length $N$ samples.\n",
    "2. Calculates the one-sided DFT for real-valued signals (RFFT).\n",
    "3. Identifies the highest peak location along the frequency axis (ignoring the DC component $X[0]$).\n",
    "5. Returns peak location as frequency in Hz, which is calculated using the sampling frequency.\n",
    "\n",
    "Run the cell below to load a python function wich performs this exact frequency detection operation on an array of arbitrary length:"
   ]
  },
  {
   "cell_type": "code",
   "execution_count": 1,
   "id": "d13e22dc-c18f-4d82-8823-b392d188d66d",
   "metadata": {
    "ExecuteTime": {
     "end_time": "2024-10-18T17:12:08.737741Z",
     "start_time": "2024-10-18T17:12:08.707318900Z"
    }
   },
   "outputs": [],
   "source": [
    "%load baseline_algorithm.py"
   ]
  },
  {
   "cell_type": "markdown",
   "id": "fb49a818-27bb-4473-978c-725977c9ccc6",
   "metadata": {},
   "source": [
    "We can conduct a simple test of this frequency detection function by generating a test signal of e.g. length $N$ samples for a given frequency $f$. To make it more interesting, we can also add some gaussian white noise to the measured signal to simulate external disturbances to the measurement.\n",
    "\n",
    "Test parameters: \n",
    "* $N = 1024$ samples\n",
    "* $fs = 10\\ 000$ samples/second\n",
    "* $f = 440$ Hz\n",
    "* $A = 1V$\n",
    "* $\\sigma_n^2 = 1 V^2$ (Noise power)"
   ]
  },
  {
   "cell_type": "code",
   "execution_count": 5,
   "id": "7d03c34a-e391-40c7-9f3c-a00d447dfce6",
   "metadata": {
    "ExecuteTime": {
     "end_time": "2024-10-18T17:29:07.292226Z",
     "start_time": "2024-10-18T17:29:06.961330100Z"
    }
   },
   "outputs": [
    {
     "data": {
      "text/plain": "<matplotlib.legend.Legend at 0x2a4e11a7610>"
     },
     "execution_count": 5,
     "metadata": {},
     "output_type": "execute_result"
    },
    {
     "data": {
      "text/plain": "<Figure size 432x288 with 1 Axes>",
      "image/png": "[encoded data removed]"
     },
     "metadata": {
      "needs_background": "light"
     },
     "output_type": "display_data"
    }
   ],
   "source": [
    "import matplotlib.pyplot as plt\n",
    "import baseline_algorithm\n",
    "# Test parameters \n",
    "fs = 10_000  # Samples/second\n",
    "N = 4*fs  # Samples \n",
    "f = 435  # Hertz\n",
    "A = 1  # Volts\n",
    "noise_var = 1 # V^2\n",
    "\n",
    "# Generate test signal\n",
    "import numpy as np\n",
    "t_n = np.arange(N)/fs  # Array of sample times\n",
    "signal = A*np.sin(2*np.pi*f*t_n) # Pure sine tone \n",
    "noise = np.random.normal(scale=np.sqrt(noise_var), size=N)  # Gaussian noise\n",
    "x_n = signal+noise  # Add noise to pure sine to create simulated signal\n",
    "\n",
    "# Plot detected frequency vs. true frequency\n",
    "t_est, f_est = baseline_algorithm.freq_detection(x_n, fs)\n",
    "\n",
    "\n",
    "plt.close(1); plt.figure(1)\n",
    "plt.plot(t_est, f_est, label=\"Frequency estimates\")\n",
    "plt.plot([0, t_est[-1]], [f, f], label=\"True frequency\")\n",
    "plt.legend()"
   ]
  },
  {
   "cell_type": "markdown",
   "id": "3f61ca24-d411-4912-b21d-bbfb73e141ea",
   "metadata": {},
   "source": [
    "As we can see, even with some noise the frequency detection algorithm reports the presence of a frequeny which is fairly close to the true wave frequency, with an error determined mainly by the resolution bandwidth $\\Delta f$ for the window size.\n",
    "\n",
    "The first milestone for your individual project is to create a test framework for your improved frequency detection system which can simulate a variety of input signals, and subject the frequency detection algorithm to these test signals. The goal is to create a system for evaluating the performance of the frequency detection algorithm given a some of specific types of input signal. This way you can have a basis for evaluating the performance of your improved frequency detection system, using the frequency detection system from **Assignment 6** as expressed in `baseline_algorithm.py` as a basis for comparison.\n",
    "\n",
    "|Test | Case |\n",
    "|---|---|\n",
    "|[Test 1](Test1_Frequency_Step.ipynb)| Tracking abrupt changes in frequency. |\n",
    "|[Test 2](Test2_Pure_Sine.ipynb)| Sinusoidal signal with added noise.|\n",
    "|[Test 3](Test3_Audio.ipynb)| \"Real-world\" signal with added noise.|\n",
    "|[Test 4](Test4_Extra_cases.ipynb)| Optional, other useful tests you may think of.|"
   ]
  }
 ],
 "metadata": {
  "kernelspec": {
   "display_name": "Python 3 (ipykernel)",
   "language": "python",
   "name": "python3"
  },
  "language_info": {
   "codemirror_mode": {
    "name": "ipython",
    "version": 3
   },
   "file_extension": ".py",
   "mimetype": "text/x-python",
   "name": "python",
   "nbconvert_exporter": "python",
   "pygments_lexer": "ipython3",
   "version": "3.11.5"
  }
 },
 "nbformat": 4,
 "nbformat_minor": 5
}
