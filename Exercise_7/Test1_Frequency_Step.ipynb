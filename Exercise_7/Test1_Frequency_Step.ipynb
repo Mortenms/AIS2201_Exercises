{
 "cells": [
  {
   "cell_type": "markdown",
   "id": "fa3fc3d9-4f36-438b-b6bf-948860da75ed",
   "metadata": {},
   "source": [
    "# Test 1: Frequency \"step\"\n",
    "\n",
    "Many improvements to the frequency detection system are possible, and some of them may involve extending the window of signal samples used to calculate the frequency estimate. As such, it will be useful to keep track of how fast our algorithm can track changes in frequency. The simplest way to test for this is to generate simulated signals consisting of two sinusoids with different frequency back-to-back, and comparing the output to the true frequency content used for signal generation."
   ]
  },
  {
   "cell_type": "code",
   "execution_count": 110,
   "id": "49ae36d9-d986-44d1-8d1e-047a5742bf74",
   "metadata": {
    "deletable": false,
    "nbgrader": {
     "cell_type": "code",
     "checksum": "b6ee987e1914922e511290e4154bbf99",
     "grade": true,
     "grade_id": "cell-0ed39a363f08830b",
     "locked": false,
     "points": 1,
     "schema_version": 3,
     "solution": true,
     "task": false
    },
    "ExecuteTime": {
     "end_time": "2024-10-18T19:56:58.590902500Z",
     "start_time": "2024-10-18T19:56:58.509844900Z"
    }
   },
   "outputs": [
    {
     "name": "stderr",
     "output_type": "stream",
     "text": [
      "No artists with labels found to put in legend.  Note that artists whose label start with an underscore are ignored when legend() is called with no argument.\n"
     ]
    },
    {
     "data": {
      "text/plain": "<matplotlib.legend.Legend at 0x1ec91e90970>"
     },
     "execution_count": 110,
     "metadata": {},
     "output_type": "execute_result"
    },
    {
     "data": {
      "text/plain": "<Figure size 432x288 with 1 Axes>",
      "image/png": "[encoded data removed]"
     },
     "metadata": {
      "needs_background": "light"
     },
     "output_type": "display_data"
    }
   ],
   "source": [
    "from baseline_algorithm import freq_detection\n",
    "import numpy as np\n",
    "import matplotlib.pyplot as plt\n",
    "# WRITE YOUR CODE IN THIS CELL:\n",
    "fs = 10000\n",
    "N = 2*fs\n",
    "f1 = 150\n",
    "f2 = 620    \n",
    "A = 1\n",
    "\n",
    "t = np.arange(N)/fs\n",
    "\n",
    "def makeStepInput(f1,f2,t):\n",
    "    t1, t2 = np.split(t,2)\n",
    "    x1 = A*np.sin(2*np.pi*f1*t1)\n",
    "    x2 = A*np.sin(2*np.pi*f2*t2)\n",
    "    xn = np.concatenate((x1, x2))\n",
    "    return xn\n",
    "xn = makeStepInput(f1,f2,t)\n",
    "\n",
    "timestamps1, freqs1 = freq_detection(xn,fs)\n",
    "timestamps2, freqs2 = freq_detection(xn,fs,2048)\n",
    "\n",
    "freqAxis = np.concatenate((np.full(N//2,f1),np.full(N//2,f2)))\n",
    "plt.close(1); plt.figure(1)\n",
    "plt.plot(t,freqAxis)\n",
    "plt.plot(timestamps1,freqs1)\n",
    "plt.plot(timestamps2,freqs2)\n",
    "plt.legend()"
   ]
  },
  {
   "cell_type": "markdown",
   "id": "a5ac381c-ab2f-49af-9c1b-f9ca00d0a6de",
   "metadata": {},
   "source": [
    "[Here](Figures/FreqStepTest_LF.png) is an image showing a *suggestion* for what your test output may look like when simulating a single frequency step, using two different window lengths as basis for analysis in the frequency detection algorithm."
   ]
  }
 ],
 "metadata": {
  "kernelspec": {
   "display_name": "Python 3 (ipykernel)",
   "language": "python",
   "name": "python3"
  },
  "language_info": {
   "codemirror_mode": {
    "name": "ipython",
    "version": 3
   },
   "file_extension": ".py",
   "mimetype": "text/x-python",
   "name": "python",
   "nbconvert_exporter": "python",
   "pygments_lexer": "ipython3",
   "version": "3.11.5"
  }
 },
 "nbformat": 4,
 "nbformat_minor": 5
}
