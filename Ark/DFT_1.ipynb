{
 "cells": [
  {
   "cell_type": "code",
   "execution_count": 2,
   "id": "initial_id",
   "metadata": {
    "collapsed": true,
    "ExecuteTime": {
     "end_time": "2024-09-12T08:51:36.256754200Z",
     "start_time": "2024-09-12T08:51:36.136471600Z"
    }
   },
   "outputs": [
    {
     "name": "stderr",
     "output_type": "stream",
     "text": [
      "C:\\Users\\morte\\AppData\\Local\\Temp\\ipykernel_49212\\948820367.py:13: ComplexWarning: Casting complex values to real discards the imaginary part\n",
      "  Xm[i] = np.sum(x*np.e**(-2j*pi*m*n/N))\n"
     ]
    },
    {
     "data": {
      "text/plain": "<StemContainer object of 3 artists>"
     },
     "execution_count": 2,
     "metadata": {},
     "output_type": "execute_result"
    },
    {
     "data": {
      "text/plain": "<Figure size 432x288 with 1 Axes>",
      "image/png": "[encoded data removed]"
     },
     "metadata": {
      "needs_background": "light"
     },
     "output_type": "display_data"
    }
   ],
   "source": [
    "import numpy as np\n",
    "from numpy import cos, pi, sin, exp\n",
    "import matplotlib.pyplot as plt\n",
    "\n",
    "N = 10\n",
    "n = np.arange(N)\n",
    "x = cos(2*pi/5*n)\n",
    "\n",
    "m_array = np.arange(-5, 6, 1)\n",
    "Xm = np.zeros(len(m_array))\n",
    "\n",
    "for i, m in enumerate(m_array):\n",
    "    Xm[i] = np.sum(x*np.e**(-2j*pi*m*n/N))\n",
    "    \n",
    "plt.stem(m_array, np.abs(Xm))\n"
   ]
  },
  {
   "cell_type": "code",
   "execution_count": 8,
   "outputs": [
    {
     "data": {
      "text/plain": "<Figure size 432x288 with 1 Axes>",
      "image/png": "[encoded data removed]"
     },
     "metadata": {
      "needs_background": "light"
     },
     "output_type": "display_data"
    }
   ],
   "source": [
    "from scipy.io import loadmat\n",
    "\n",
    "data = loadmat('06_DFT_data.mat', squeeze_me=True)\n",
    "x_n = data['x2_n']\n",
    "Fs = data['f_s']\n",
    "\n",
    "N = len(x_n)\n",
    "\n",
    "X_m = np.fft.fft(x_n)\n",
    "X_shifted = np.fft.fftshift(X_m)\n",
    "m = np.arange(-N//2,N//2)\n",
    "f = m * Fs/N\n",
    "\n",
    "plt.close(3); plt.figure(3)\n",
    "plt.stem(f,np.abs(X_shifted))\n",
    "plt.xlabel(\"Frekvens $f$ (Hz)\")\n",
    "plt.tight_layout()\n"
   ],
   "metadata": {
    "collapsed": false,
    "ExecuteTime": {
     "end_time": "2024-09-12T10:03:45.710700800Z",
     "start_time": "2024-09-12T10:03:45.583670900Z"
    }
   },
   "id": "b7354974323b27b5"
  }
 ],
 "metadata": {
  "kernelspec": {
   "display_name": "Python 3",
   "language": "python",
   "name": "python3"
  },
  "language_info": {
   "codemirror_mode": {
    "name": "ipython",
    "version": 2
   },
   "file_extension": ".py",
   "mimetype": "text/x-python",
   "name": "python",
   "nbconvert_exporter": "python",
   "pygments_lexer": "ipython2",
   "version": "2.7.6"
  }
 },
 "nbformat": 4,
 "nbformat_minor": 5
}
