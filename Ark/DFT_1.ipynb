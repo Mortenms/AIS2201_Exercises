{
 "cells": [
  {
   "cell_type": "code",
   "execution_count": 1,
   "id": "initial_id",
   "metadata": {
    "collapsed": true,
    "ExecuteTime": {
     "end_time": "2024-09-12T08:47:04.898311700Z",
     "start_time": "2024-09-12T08:47:03.143418100Z"
    }
   },
   "outputs": [
    {
     "name": "stderr",
     "output_type": "stream",
     "text": [
      "C:\\Users\\morte\\AppData\\Local\\Temp\\ipykernel_49212\\1036004700.py:13: ComplexWarning: Casting complex values to real discards the imaginary part\n",
      "  Xm[m] = np.sum(x*np.e**(-2j*pi*m*n/N))\n"
     ]
    },
    {
     "data": {
      "text/plain": "<StemContainer object of 3 artists>"
     },
     "execution_count": 1,
     "metadata": {},
     "output_type": "execute_result"
    },
    {
     "data": {
      "text/plain": "<Figure size 432x288 with 1 Axes>",
      "image/png": "[encoded data removed]"
     },
     "metadata": {
      "needs_background": "light"
     },
     "output_type": "display_data"
    }
   ],
   "source": [
    "import numpy as np\n",
    "from numpy import cos, pi, sin, exp\n",
    "import matplotlib.pyplot as plt\n",
    "\n",
    "N = 10\n",
    "n = np.arange(N)\n",
    "x = cos(2*pi/5*n)\n",
    "\n",
    "m_array = np.arange(-5, 6, 1)\n",
    "Xm = np.zeros(len(m_array))\n",
    "\n",
    "for m in m_array:\n",
    "    Xm[m] = np.sum(x*np.e**(-2j*pi*m*n/N))\n",
    "    \n",
    "plt.stem(m_array, np.abs(Xm))\n"
   ]
  }
 ],
 "metadata": {
  "kernelspec": {
   "display_name": "Python 3",
   "language": "python",
   "name": "python3"
  },
  "language_info": {
   "codemirror_mode": {
    "name": "ipython",
    "version": 2
   },
   "file_extension": ".py",
   "mimetype": "text/x-python",
   "name": "python",
   "nbconvert_exporter": "python",
   "pygments_lexer": "ipython2",
   "version": "2.7.6"
  }
 },
 "nbformat": 4,
 "nbformat_minor": 5
}
