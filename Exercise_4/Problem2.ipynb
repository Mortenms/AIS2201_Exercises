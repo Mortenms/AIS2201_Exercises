{
 "cells": [
  {
   "cell_type": "markdown",
   "metadata": {
    "deletable": false,
    "editable": false,
    "nbgrader": {
     "cell_type": "markdown",
     "checksum": "024ab0af4c269c44579c46cfbea4efb1",
     "grade": false,
     "grade_id": "cell-29b0aa29981ff87c",
     "locked": true,
     "schema_version": 3,
     "solution": false,
     "task": false
    }
   },
   "source": [
    "# Signal synthesis using IDFT\n",
    "\n",
    "__Desired Learning Outcomes__:\n",
    "* Experiencing the connection between the DFT sequence and the composition of a signal.\n",
    "* How to add, subtract and adjust individual constituent sinusoids in a signal using IDFT.\n",
    "\n",
    "__Libraries and notebook-config:__"
   ]
  },
  {
   "cell_type": "code",
   "execution_count": 2,
   "metadata": {
    "ExecuteTime": {
     "end_time": "2024-09-12T12:10:30.030777900Z",
     "start_time": "2024-09-12T12:10:28.951059800Z"
    }
   },
   "outputs": [],
   "source": [
    "from numpy import sin, cos, pi, exp, mean, absolute, angle, conj # Sentrale matematiske funksjoner\n",
    "from numpy.fft import fft, ifft             # DFT og IDFT\n",
    "import numpy as np                          # Importer funksjonalitet fra numpy biblioteket med prefiks \"np\"\n",
    "import matplotlib.pyplot as plt             # Importer pyplot modulen i matplotlib med prefiks \"plt\"\n",
    "\n",
    "%matplotlib ipympl"
   ]
  },
  {
   "cell_type": "markdown",
   "metadata": {},
   "source": [
    "**Introduction:**\n",
    "\n",
    "Fourier transformation can be used for more than just identifying frequency components in a signal. A DFT is a *complete* decomposition of a signal, meaning that it contains all the information necessary to reconstruct a signal from its frequency components.\n",
    "\n",
    "In this task, we will construct a signal by adding and modifying the components in the frequency domain, and then calculate a signal in the time domain using the IDFT. Below is an example that shows the mathematics behind signal generation using IDFT. The signal generated is 64 samples of a sinusoidal sequence given by the formula $ x[n] = 2\\cdot \\cos\\left(2\\pi \\frac{4}{64}\\cdot n - \\frac{\\pi}{3} \\right), \\ \\ \\ 0 \\leq n < 64 $.\n",
    "\n",
    "* Determine which indices in the DFT sequence correspond to a sinusoidal signal with normalized angular frequency $ \\hat{\\omega} = 2\\pi \\frac{4}{64} $:\n",
    "$$\\pm \\hat{\\omega}_k = \\pm 2\\pi \\cdot \\frac{4}{64} = \\pm 2\\pi \\cdot \\frac{k}{N}, \\ \\ \\ N = 64$$\n",
    "$$k = \\pm 4 $$\n",
    "$$ \\downarrow$$\n",
    "$$\\text{(negative numbers 'roll over' and count down from the highest index.) }$$\n",
    "$$ \\downarrow$$\n",
    "$$ k = \\pm 4 \\% 64$$\n",
    " \n",
    "$$\n",
    "k =\n",
    "\\begin{cases}\n",
    "\\begin{align}\n",
    "4\\ \\ \\ & \\text{(positive frequency component)} \\\\\n",
    "-4 \\% 64 = 64 - 4 = 60\\ \\ \\ & \\text{(negative frequency component)}\n",
    "\\end{align}\n",
    "\\end{cases}\n",
    "$$\n",
    " \n",
    "\n",
    "* Find the complex amplitude $ a_k $ so that the signal can be written as $ x[n] = a_k \\cdot e^{j\\hat{\\omega}_k\\cdot n} + a_k^{*} \\cdot e^{-j\\hat{\\omega}_k\\cdot n} $:\n",
    "$$2\\cdot \\cos \\left(2\\pi \\frac{4}{64}\\cdot n - \\frac{\\pi}{3} \\right) = e^{-j\\frac{\\pi}{3}}\\cdot e^{j2\\pi \\frac{4}{64}\\cdot n} + e^{j\\frac{\\pi}{3}}\\cdot e^{-j2\\pi \\frac{4}{64}\\cdot n}$$\n",
    "$$a_4 = e^{-j\\frac{\\pi}{3}}$$\n",
    " \n",
    " \n",
    "* Set the relevant elements in \\( X[k] \\) to the correct value *(here we need to multiply by the number of samples in the DFT sequence)*\n",
    "$$\n",
    "X[k] = \n",
    "\\begin{cases}\n",
    "\\begin{align}\n",
    "N \\cdot a_4= 64 \\cdot e^{-j\\frac{\\pi}{3}},\\ \\ \\  & k = 4 \\\\\n",
    "N \\cdot a_4^{*} = 64\\cdot e^{j\\frac{\\pi}{3}},\\ \\ \\  & k = 60 \\\\\n",
    "0 \\ \\ \\ & otherwise\n",
    "\\end{align}\n",
    "\\end{cases}\n",
    "$$\n",
    " \n",
    " \n",
    "* The inverse DFT gives the desired signal:\n",
    "$$x[n] = IDFT(X[k])$$\n",
    "\n",
    "\n",
    "The code cell below performs the last two steps in this process. The parameters `k`, `A`, and `phi` are arrays, allowing us to build a signal with one or more sinusoidal sequences. For now, the code will only generate the signal from the above calculation.\n",
    "\n",
    "*Note: Take note that we only need to specify the positive frequency components. Code to compute the complex conjugate \"mirror image\" that contains the negative frequency components is already included.*\n",
    "\n",
    "<!--\n",
    "Original norsk tekst:\n",
    "\n",
    "**Introduction**\n",
    "The fourier transfomr can be used for more than\n",
    "\n",
    "\n",
    "Fouriertransformasjon kan brukes til mer enn å identifisere frekvenskomponenter i et signal. En DFT er en *fullstendig* dekomposisjon av et signal, som betyr at den inneholder all informasjon som er nødvendig for å rekonstruere et signal fra frekvenskomponentene. \n",
    "\n",
    "I denne oppgaven skal vi konstruere signal ved å legge til og modifisere komponentene i frekvensplanet, for så å regne oss frem til et signal i tidsdomenet med bruk av IDFT. Nedenfor føgler et eksempel som viser matematikken rundt signalgenerasjon med IDFT. Signalet som genereres er 64 sampler av en sinussekvens gitt ved formelen $x[n] = 2\\cdot \\cos\\left(2\\pi \\frac{4}{64}\\cdot n - \\frac{\\pi}{3} \\right), \\ \\ \\ 0 \\leq n < 64$.\n",
    "* Finn ut hvilkde indekser i DFT-sekvensen som vil korrespondere med et sinussignal med normalisert vinkelfrekvens $\\hat{\\omega} = 2\\pi \\frac{4}{64}$:\n",
    "$$\\pm \\hat{\\omega}_k = \\pm 2\\pi \\cdot \\frac{4}{64} = \\pm 2\\pi \\cdot \\frac{k}{N}, \\ \\ \\ N = 64$$\n",
    "$$k = \\pm 4 $$ \n",
    "$$ \\downarrow$$\n",
    "$$\\text{(negative tall 'ruller over' og teller ned fra høyeste indeks.) }$$\n",
    "$$ \\downarrow$$\n",
    "$$ k = \\pm 4 \\% 64$$\n",
    " \n",
    "$$\n",
    "k =\n",
    "\\begin{cases}\n",
    "\\begin{align}\n",
    "4\\ \\ \\ & \\text{(positiv frekvenskomponent)} \\\\\n",
    "-4 \\% 64 = 64 - 4 = 60\\ \\ \\ & \\text{(negativ frekvenskomponent)}\n",
    "\\end{align}\n",
    "\\end{cases}\n",
    "$$\n",
    " \n",
    "\n",
    "* Finn den komplekse amplituden $a_k$ slik at signalet kan skrives som $x[n] = a_k \\cdot e^{j\\hat{\\omega}_k\\cdot n} + a_k^{*} \\cdot e^{-j\\hat{\\omega}_k\\cdot n}$:\n",
    "$$2\\cdot \\cos \\left(2\\pi \\frac{4}{64}\\cdot n - \\frac{\\pi}{3} \\right) = e^{-j\\frac{\\pi}{3}}\\cdot e^{j2\\pi \\frac{4}{64}\\cdot n} + e^{j\\frac{\\pi}{3}}\\cdot e^{-j2\\pi \\frac{4}{64}\\cdot n}$$\n",
    "$$a_4 = e^{-j\\frac{\\pi}{3}}$$\n",
    " \n",
    " \n",
    "* Sett de aktuelle elementene i $X[k]$ til riktig verdi *(her må vi multiplisere med antall sampler i DFT-sekvensen)*\n",
    "$$\n",
    "X[k] = \n",
    "\\begin{cases}\n",
    "\\begin{align}\n",
    "N \\cdot a_4= 64 \\cdot e^{-j\\frac{\\pi}{3}},\\ \\ \\  & k = 4 \\\\\n",
    "N \\cdot a_4^{*} = 64\\cdot e^{j\\frac{\\pi}{3}},\\ \\ \\  & k = 60 \\\\\n",
    "0 \\ \\ \\ & ellers\n",
    "\\end{align}\n",
    "\\end{cases}\n",
    "$$\n",
    " \n",
    " \n",
    "* Invers DFT gir det ønskede signalet:\n",
    "$$x[n] = IDFT(X[k])$$\n",
    "\n",
    "\n",
    "Kodecellen nedenfor utfører de to siste stegene i denne prosessen. Parmaetrene `k`, `A` og `phi` er arrays, noe som lar oss bygge et signal med én eller flere sinussekvenser. Foreløpig vil koden kun generere signalet fra utregningen ovenfor. \n",
    "\n",
    "*NB! legg merke til at vi kun trenger å angi de positive frekvenskomponentene. Kode for å regne ut det komplekskonjugerte \"speilbildet\" som inneholder de negative frekvenskomponentene er allerede inkludert.*\n",
    "-->"
   ]
  },
  {
   "cell_type": "code",
   "execution_count": 13,
   "metadata": {
    "ExecuteTime": {
     "end_time": "2024-09-12T12:42:19.891123100Z",
     "start_time": "2024-09-12T12:42:19.837183Z"
    }
   },
   "outputs": [
    {
     "data": {
      "text/plain": "Canvas(toolbar=Toolbar(toolitems=[('Home', 'Reset original view', 'home', 'home'), ('Back', 'Back to previous …",
      "image/png": "[encoded data removed]",
      "text/html": "\n            <div style=\"display: inline-block;\">\n                <div class=\"jupyter-widgets widget-label\" style=\"text-align: center;\">\n                    Figure\n                </div>\n                <img src='data:image/png;base64,iVBORw0KGgoAAAANSUhEUgAAA4QAAAEsCAYAAACbnn2RAAAAOXRFWHRTb2Z0d2FyZQBNYXRwbG90bGliIHZlcnNpb24zLjUuMSwgaHR0cHM6Ly9tYXRwbG90bGliLm9yZy/YYfK9AAAACXBIWXMAAA9hAAAPYQGoP6dpAAAxyUlEQVR4nO3de3xU9Z3/8fckhNyJ5AIESSC4Ispl1YAWwQAqF2VXbVxl660u1ZUtKhcXBa0i0hIUYVugotgWfGjVqIuX9mcr0XCRumqIonivFBoqiRirCSUhmSTn9wdmzJBkMpPMzLm9no8HjwczczLznTPf8z3ncz7fi8cwDEMAAAAAANeJMbsAAAAAAABzEBACAAAAgEsREAIAAACASxEQAgAAAIBLERACAAAAgEsREAIAAACASxEQAgAAAIBLERACAAAAgEsREAIAAACASxEQAgAAAIBLERACAAAAgEsREAIAAACASxEQAgAAAIBL9TK7AGZraWnRwYMHlZqaKo/HY3ZxAAAAACBohmHo8OHDGjhwoGJiQs/3uT4gPHjwoHJycswuBgAAAAB024EDBzRo0KCQ/871AWFqaqokad++fUpPTze5NEBwvF6vtmzZoqlTpyouLs7s4gBBo+7Cjqi3sCvqrjvU1tYqJyfHF9eEyvUBYWs30dTUVPXp08fk0gDB8Xq9SkpKUp8+fWjgYSvUXdgR9RZ2Rd11l+4Of2NSGQAAAABwKQJCAAAAAHApAkIAAAAAcCkCQgAAAABwKQJC2F5lTb1e31utypp6s4sCAAAA2IrrZxmFvRWXVWjx5j1qMaQYj1RUOEozx+aaXSwAAOBSlTX12ld9RHmZycpOSzS7OECXCAhhW5U19b5gUJJaDOmOze+rYFgWDTAAAIg6blTDjugyCtvaV33EFwy2ajYM7a+uM6dAAGyF7uYAwqmzG9W0MbA6MoSwrbzMZMV45BcUxno8GpKZZF6hANgCd/EBhFugG9X0XIKVkSGEbWWnJWrpxSN8j2M80vLCkTS6AALiLj6ASGi9Ud0WN6phBwSEsLXL8gf5/v/Kgonc4QfQpWC7m9OlFEAouFENu3JUQFhUVCSPx6N58+aZXRSYYEBagtlFAGADwdzFLy6r0PgVpbrykTc1fkWpissqolxKAHbEjWrYkWMCwrKyMm3YsEGjR482uygAAAvr6i4+XUoBdCaUngPcqIZdOCIg/Mc//qGrrrpKjzzyiPr27Wt2cQAAFhfoLj4zGAPoCD0H4FSOmGV0zpw5mjFjhi644AL99Kc/DbhtQ0ODGhoafI9ra2slSV6vV16vN6LlRPh5vU1t/u+V12ME2No5WusqdRZ2Y5W627btyEiK9SvPoLT4djMYx3ikE9N6m15umMMq9Rbmqaw52q7nwOLNezQur6+y22QCrXZdQt11h57+vrYPCJ966imVl5dr165dQW1fVFSkpUuXtnt+69atSkpiFii7aWiWWqvxyy9vUXysqcWJupKSErOLAHSL2XW3q7ajcIhHz+479qRHhq7Ia9E7fyrVO9EtJizG7HoL8/y5xqMWw7+haDGkp1/aqpPTvgv6rHpdQt11trq6nvVgsXVAeODAAc2dO1dbtmxRQkJw/bQXL16sBQsW+B7X1tYqJydHkydPVkZGRqSKigipa2zSbW+VSpKmTZuqpN62rtJB83q9Kikp0ZQpUxQXF2d2cYCgWaXudtV2TGps0rPLjr3+8tzxystMiXoZYR1WqbcwT2XNUT340Y52PQeuuGiyX4bQatcl1F13aO3x2F22vnouLy/XoUOHlJ+f73uuublZO3bs0Lp169TQ0KDYWP9bM/Hx8YqPj2/3XnFxcRwoNhRnfDdV4LHfsOMqXVlTr33VR5SXmeyo6Z+pt7Ars+tuV21H29cHZaR22rbAXcyutzBPbmacll48Qne98IGkY8FgUeEo5Wam+m0X7HVJtFF3na2nv601amk3nX/++dqzZ4/fc//xH/+h4cOH6/bbb28XDMKdissqfP3+WxtwpoEGAAChuCx/kC8gfGXBRA3NoucAnMHWAWFqaqpGjhzp91xycrIyMjLaPQ936mz6+IJhWY7KFAIAgOhhSQk4iSOWnQA6w/TxAAAAQOdsnSHsyLZt28wuAsKop2P/8jKT200fH+vxaEgmM8oCAAAAZAhhWeFYADY7LVFLLx7hexzjkZYXjqS7KAAAACACQlhUZ2P/KmvqQ36vy/IH+f7/yoKJTCgDAAAAfIuAEJYUqbF/DAIHAAAAvkNACEtqHfvXFmP/AAAAgPAiIIQlMfYPAAAAiDwCQlgWY/8AAACAyCIghC0w9g8AADhFZU29Xt9b3a3J8oBwc9w6hAAAAIBVFZdV+GZSj/FIRYWj6AUFU5EhBAAAAKIgnMtqAeFCQAgAAABEQaSW1QJ6goAQAOA4jM8BYEUsqwUrIiAEADhKcVmFxq8o1ZWPvKnxK0pVXFZhdpEAQBLLasGaCAgBAI7B+BwAVseyWrAaAkIAgGMwPgeAnbCsFqyAgBAA4BiMzwEAIDQEhAAAx2B8DgAAoSEgBAA4CuNzAAAIHgEhAMCxGJ8DAEBgBIQAAAAA4FIEhAAAdFNlTb1e31vNshYAANvqZXYBAACwo+KyCt+ahzEeqahwFOMVAQC2Q4YQAIAQVdbU+4JBSWoxpDs2v0+mEABgOwSEAACEaF/1EV8w2KrZMLS/us6cAgEA0E0EhAAAhCgvM1kxHv/nYj0eDclMMqdAAAB0EwEhAAAhyk5L1NKLR/gex3ik5YUjlZ2WaGKpAPQEk0TBrZhUBgCAbrgsf5DueuEDSdIrCyZqaFaKySUC0F1MEgU3I0MIAEAPDUhLMLsIALqJSaLgdgSEAAAAcC0miYLbERACAADAtZgkCm5HQAgAAADXYpIouB0BIQAAAFztsvxBvv+/smAiE8rAVQgIAQAAgG8xSRTchoAQAAAAAFyKgBAAAAAAXIqAEPhWZU29Xt9bzbpDAAAAcI1eZhcAsILisgrforQxHqmocBQDygEAAOB4ZAjhepU19b5gUJJaDOmOze+TKQQAAIDjERDC9fZVH/EFg62aDUP7q+vMKRAAAAAQJQSEcL28zGTFePyfi/V4NCQzyZwCAQAAAFFCQAjXy05L1NKLR/gex3ik5YUjlZ2WaGKpAAAAgMgjIISprDKz52X5g3z/f2XBRCaUAQAAgCvYOiAsKirS2LFjlZqaqn79+unSSy/VJ598YnaxEKTisgqNX1GqKx95U+NXlKq4rMLsIkmSBqQlmF0EAAAAICpsHRBu375dc+bM0RtvvKGSkhI1NTVp6tSpOnLkiNlFQxeY2RMAAAAwn63XIfzjH//o93jjxo3q16+fysvLVVBQYFKpEIxAM3sydg8AAACIDltnCI9XU1MjSUpPTze5JOgKM3sCAAAA5rN1hrAtwzC0YMECTZgwQSNHjux0u4aGBjU0NPge19bWSpK8Xq+8Xm/Ey4ljMpN66a4Zw7X09x9LOjaz57JLTlVmUi/f7+D1Nvm293q98nqMdu8TzW2s5Lt9RJ2FvUSj7objmHdiu4Huo811Pqdec1B33aGnv69jAsKbbrpJ7733nnbu3Blwu6KiIi1durTd81u3blVSEtmpaEpullqr4KJ/blLyF+/ppZfe873e0Ob1l1/eovjY9u8RzW2sqKSkxOwiAN0SybobjmPeye0Guo8217mcfs1B3XW2urq6Hv29xzAM29/SvPnmm/X8889rx44dysvLC7htRxnCnJwcVVZWKiMjI9JFRRt1jU3652WlkqR37zpPSb17hfR6tLexEq/Xq5KSEk2ZMkVxcXFmFwcIWjTqbjiOeSe2G+g+2lznc+o1B3XXHWpra5WZmamamhr16dMn5L+39dnLMAzdfPPNeu6557Rt27Yug0FJio+PV3x8fLvn4+LiOFCiLM74bhDhsf3fK6TXo72NFVFvYVeRrLvhOOad3G6g+2hzncvp1xzUXWfr6W9r67PXnDlz9MQTT+iFF15QamqqqqqqJElpaWlKTGSmSgAAAAAIxNazjK5fv141NTWaNGmSsrOzff+Ki4vNLhoAAAAAWJ6tM4QOGP4IAAAA+Kmsqde+6iPKy0xmfWZEnK0DQgCwM074QOc4PjrGfnG+4rIKLd68Ry3GsWW5igpHaebYXLOLZRscI6EjIAwDKh6AUHHCBzrH8dEx9ovzVdbU+35jSWoxpDs2v6+CYVlcYwaBY6R7bD2G0AqKyyo0fkWprnzkTY1fUarisgqziwREVWVNvV7fW63KmvoebeMmnZ3w2T8Ax0dn2C/usK/6iO83btVsGNpf3bN15tyAY6T7yBAGobMMIHdx4HbB3Injbl17gU74tB1wO46PjrFf3CEvM1kxHvn91rEej4ZkJplXKJvgGOk+MoRdCJQB5C4O3CyYO3HcretY6wm/LU74wDEcHx1jv7hDdlqill48wvc4xiMtLxxJQBMEjpHuIyAMoKuLWSoe3CyYGyLcNOkYJ/yeoQuys3F8dCyU/cIxYm+X5Q/y/f+VBRNd36smWBwj3UdAGEBXF7OctOBmwdwQcfNNk65ONpzwu4dx284R6Bjh+OhYMPuFY8RZBqQlmF0EW+EY6R4CwgCCuZjlpAW3CuaGiFtvmoR6suGEHxy6IDtHKMcIx0fHOtovHCPAdzhGgkdAGECoF7OctOA2wdwQcdtNE042kUMXZGfgGIkcjhEgMI6RjhEQdsFtF7NAdwVzQ8QNN0042USOm7sgOwnHSORwjACBcYx0jIAwBG64mAXQM+E82TDo3Z9buyA7DcdI5HCMAIFxjHSMgBAAwihcJxsGvXeMXhv2xzESWE+DXI4RIDCOkfYICAEgzHp6smGMVXDotWFfHCMdC3eQyzECpwl3rwCOkWN6mV0AAHCy7pxsAo2xcnu3FjgPx8gxnQW5BcOybPudgHAqLqvwHSMxHqmocBTZvTAhQwgAFsOgdyAwJx4jTLYDdM6pvQKsgoAQgCUwOcR3GPQOBObEY8SJQS4QLtwwiSwCQgCmc+rkED3BoHcgMKcdI04McoFw4YZJZBEQfquq9qjZRQBciW4gXWPQu72R/Y48pxwjTgtygXDhhklkERB+a8ba1yOaleCCAOgY3UDgZGS/0V1OCXKBcOGGSeQQEH4rklkJLgiAztENBE5F9hsAIoMbJuFFQNhGJLISXBDAzqKR2aYbCJyK7DcAwA5Yh7CNSGQlnLhWEtwhmuv9XJY/SHe98IGkY91AhmalRORzgGhqzX63PQeQ/QYA66usqde+6iPKy0x2xfU6GcJvRSorQXc42JGZmW26gcApyH4DgP24cagXAeG3Ns8+KyLZDy4IYEd0dQuMSaIQLCZBAKyDthtdcetQL7qMfisrNXJZCbrDwW7o6ta5aHalhbOQ/QbMQ9uNYLh1qFePAsIzzzwzpO09Ho9efPFFnXjiiT35WFvjggB20JrZbr2RQWb7mM7uHBYMy3L9vgEAq6LtRrDcekO8RwHh7t27deuttyolpeuMl2EYWrFihRoaGnrykQCihMx2e269cwgAdkbbjWC59YZ4j7uMLly4UP369Qtq21WrVvX04wCYgMz2MW69cwjYmdtmCwyWm/YLbTdC4cYb4j2aVGbfvn3KysoKevsPP/xQgwcP7slHAoBpmCQKsBc3zhYYDLftF9pudJdbboj3KCAcPHiwPB5P1xt+KycnR7GxsT35SAAwFbNGAvbg1tkCu+LW/ULbDXQurLOMfvPNN3rrrbd06NAhtbS0+L127bXXhvOjAMB0brlzCITKCt0RrThujP1iDbTdgL+wBYS/+93vdNVVV+nIkSNKTU31yxx6PB4CQgAAXMAq0/tbbdwY+wWAVYVtYfpbb71Vs2bN0uHDh/XNN9/o66+/9v37+9//Hq6PAQAAFmWl7ohWGjfGfgFgZWELCD///HPdcsstSkriDhMAAG4UqDuiGawyboz9AsDKwhYQTps2Tbt27QrX2wGAn8qaer2+t9rxEx8AdtbaHbEtq3RHNHPcGPsFgJWFbQzhjBkztHDhQn344YcaNWqU4uLi/F6/+OKLw/VRgCmsMBmAW1ll7A2AwNy6qHNX2C8ArCxsAeENN9wgSbr33nvbvebxeNTc3ByujwKijoDEPJ2NvSkYlsXFFGBBblzUORjsFwDdEY2ERNgCwuOXmQCcgoDEXEyRHhiZa1gZ3RE7xn4BEIxoJSTCug4h4EQEJOZiivTOkbkGAMCZopmQ6NGkMmvWrNHRo0eD3v6hhx7S4cOHe/KRQNRZeTIAN2CK9I5ZaRp7AADcJtKT3UVzduIeBYTz588PKcC77bbb9OWXX/bkI4GoIyAxH1Okt2e1aewBAHCL4rIKjV9RqisfeVPjV5SquKwi7J8RzYREj7qMGoah888/X716Bfc29fXcuYY9MRmAdURj7I0dxuXRlRYA4CR2OPdK0evKGc3ZiXsUEC5ZsiSk7S+55BKlp6f35CM79OCDD2rlypWqrKzUiBEj9POf/1znnntu2D8HobHLgR0qJgNwNruMy2MaewCAU9jl3CtFd26JaCUkwhYQvvLKK7rgggs63O7hhx/WjTfe2JOP6lRxcbHmzZunBx98UOPHj9fDDz+sCy+8UB9++KFyc61ZkdzATgc20MpuM8qSuQYA2J3dzr1m9dCJZEIirAvT33TTTSoqKlLv3r0lSV9++aVmzZqlP/3pTxELCFevXq0f/ehHuv766yVJP//5z/Xyyy9r/fr1KioqCvp9mhob1djY2O75xsYm9VLzt/9vVC+1hPR6sNs4SVVtve7avFsxxreDVA3p7s3valxemgb0+e7Ajta+Dcc2VvsNvV6vmpub1djYKMMwuv6DbnDj/v+s6hvFGM3+g6sN6bOqGmUkxgZdlmh957bbpCfGdNiGWU1P665V9z/t/3fsuP+rauv116/qNDgjye881Socba4d94uTWGnfRvOcF43rhZ4K5twrWWf/ZyTGaslFw7Ts/30k6VjiY+nFI5SRGBv283DbskTy9/MYYXr3N998U9dcc40SExP1xBNPaP/+/Zo1a5ZOPfVUPfbYY8rJyQnHx/hpbGxUUlKSnnnmGX3/+9/3PT937lzt3r1b27dvb/c3DQ0Namho8D2ura1VTk6OFi1apIQEugICAAAAsJY5t8xTWkrHWcja2lplZmaqpqZGffr0Cfm9w5YhPPvss/XOO+9o9uzZys/PV0tLi376059q4cKF8ng8Xb9BN1RXV6u5uVn9+/f3e75///6qqqrq8G+Kioq0dOnSiJQHAAAAAMJtx9ZXFRsb2+FrdXU9m2E8rAvTf/LJJyorK9OgQYN08OBBffzxx6qrq1NycnI4P6ad4wNOwzA6DUIXL16sBQsW+B63Zgj/67/+SxkZGREtZyD1jU363n3HMppv3D5Rib17hfR6NLcJ5j2ee+dz3fv/PvaNIbx7xnB9/4wTA+8EmzNj/7926wT1SYqPWFnsJJzfuaq2QX/7uk6D+iZpQJ/2+9dOonXMh7pNT+qu0zit/beTsv1f6/rH3m73/K+vPVNjBveV1HW9rapt0IVrdvqNJ4rxSH+4ZYJt2w+71Tmn1ctgRKvNjWZdcNK5Vwp/3Y2Li+s0vqmtre1RWcN2xKxYsUJLlizRf/7nf2rlypXau3evrr76ao0ePVqPP/64xo0bF66P8snMzFRsbGy7bOChQ4faZQ1bxcfHKz6+fSVLTk6OeOAaiCeuSU06FvUnJScr6bgK0dXr0dwmmPe4esIwnT8qR/ur6zQkM8mSg4LDzZT9n5So5OT2+zZcZbGTtt+ntilWmX3bH8/BfueTkpN1Unb4Z0Q2Q7SO+ZC36UHddRqntf92csqgGLV4YttNDjHsxAxf/eyq3n5RVa9G47i79oZ0qM7QSdnmXVf0hN3qnNPqZTCi1eZGsy446dwrRbfuxsXFdb+g6uHC9G394he/0PPPP6+1a9cqISFBI0aM0FtvvaXCwkJNmjQpXB/jp3fv3srPz1dJSYnf8yUlJTrnnHMi8pnRUFVz1OwihEV2WqLGnZThimAQ5vvf8r/5/n/B6u0RWSQWgLNkpyWqqHCUYr+96x7r8YS8fEs0F48G4FxmXv+HLSDcs2ePLrzwQr/n4uLitHLlSm3ZsiVcH9POggUL9Ktf/Uq/+c1v9NFHH2n+/PmqqKjQ7NmzI/aZkcDFLNB9lTX1WvLiB77HrVNWV9bUm1gqAHYwc2yudi6arCdv+J52Lpoc8hJJ4QgqAThbZ8GeVa7/w5ZTz8zM7PS1iRMnhutj2pk5c6a++uor3XvvvaqsrNTIkSP10ksvafDgwRH7zHDr7GLWquuvAFbTnUViq2qOsm4fAEnHgrpgzrdf1B5VWgfd7maOzVXBsCxXDZMAENjxwd7xa3Jb6fo/bBlCM/34xz/W/v371dDQoPLychUUFJhdpJAEupgF0LVgu2xZ5U4cAPto225MX/N6p+0GwyQAtAqm55KVrv8dERDaHeMPYDa7j1sNpssW3UoBhIp2A0B3BBPsWen6n4DQAhh/ADM4LVvW1TggK92JA2APtBuwA7vf1HWiYII9K13/O39eXptg/AGiyUr91sMp0Dig1sb5+OnlycQD6AztBqyqq/FpMFdrsHfH5vfVbBidBntWuf4nILSQYAe1Az3VnUlY7C7YxhkAWrW2G4s371GLcWzBedoNmM2pN3WdJthgzwrX/wSEgAu59a63Ve7EAbCPmWNzNS6vr55+aauuuGiycjNTzS4SXM6NN3XtygrBXjAYQwi4kJX6rUcbMwECCFV2WoJOTjOUnZZgdlEAS01GAmcgQwi4FNkyAADshyEQCDcCQsDF7NKVAe5UVXNUQ7NSzC4GAFgON3URTnQZBQBYhtOWQwGASGEIBMKFgBAAYAksAg5YD2vcAc5HQAgAsAQWAQesgUw94C4EhAAAS2DmPMB8ZOoB9yEgBABYgpuXQwGsgkw94D7MMgoAsAxmzrMPZoF1ptZMfdugkEw94GxkCAEAlsLMedbF2DLnI1MPuA8ZQgAA0KXOxpYVDMsiWHAYMvWAuxAQAgCALgUaW0bA4DzZaYn8roBL0GUUAAB0iVlgAcCZCAgBALAIKy8CztgyAHAmuowCAGCi4ydqKSocpZljc00sUecYWwYAzkOGEAAAk9hxEXBmgQUAZyEgBADAJCwCDgAwGwEhALiElcenuRUTtQAAzEZACAAOxkLi1sZELQAAszGpDAA4FAuJ2wMTtQDhU1VzVEOzUswuBmArZAgBwKEYn2YfTNQCdB89IYCeISAEAIdifBoAp7PjTL1ux3h26yEgBACHYnwaAKejJ4Q9kMW1NsYQAoCDMT4NgJO19oRoGxTSE8JaGM9ufWQIAcDhGJ8GwKnoCWF9ZHGtjwwhAAAAbIueENZGFtf6yBACAADA1ugJYV1kca2PDCEAAACAiCGLa20EhAAAAAAiKjstkUDQougyCkQAa+wAAADADggIbYhgw5pYYwcAAAB2Q0BoEwQb1tbZGjuVNfUmlgoAAAAIjIDQBgg2rI81dgAAAGBHBIQ2QLBhfa1r7LTFGjsAAACwOgJCG7BysMF4xmOsvMYOvxEAAAA6Q0BoA1YLNhjP2LGZY3O1c9FkPXnD97Rz0WTNHJtrWln4jQAAABAM265DuH//fi1btkylpaWqqqrSwIEDdfXVV+vOO+9U7969zS5e2FllQc/OxjMWDMuyRDbMbFZYY4ffCAAAAMGybUD48ccfq6WlRQ8//LD+6Z/+Se+//75uuOEGHTlyRA888IDZxYsIKwQbgcYzml02HMNvBAAAgGDZNiCcPn26pk+f7ns8dOhQffLJJ1q/fr1jA0IraB3P2DbgsMp4RhzDbwQAAIBgOWoMYU1NjdLT080uhqNZbTwj2uM3AgAAQLBsmyE83t69e7V27VqtWrUq4HYNDQ1qaGjwPa6trZUkeb1eeb3eiJYx0rzepjb/98rrMSKyTeHp2RqX11cVf69TbnqSstMSbL/voiUc+9//9aYO9z2/EUIRWp0LV9vScd1Fe9Fq24Pdxo1a6yp19jvRqnPUye4Lps2NVvuPyOpp22S5gPCee+7R0qVLA25TVlamMWPG+B4fPHhQ06dP1+WXX67rr78+4N8WFRV1+P5bt25VUpK9u9Q1NEutP+nLL29RfGzktmn1laR3ul9k1wnH/m/7emlpacDfR+I3QtdCqXPhaluCqbs4JppteyjtvxuVlJSYXQTLiFado052XzBtbrTaf0RWXV3P1ib3GIZhqTC+urpa1dXVAbcZMmSIEhISJB0LBidPnqyzzz5bmzZtUkxM4F6wHWUIc3JyVFlZqYyMjJ5/ARPVNTbpn5eVSpLeves8JfVuH++Haxt0Tzj2f9vXdy0qUFpyQoRLDacLpc6Fq22h7gYvmm077X/HvF6vSkpKNGXKFMXFxZldHEtoW1e2zD1HeZkpAbcJxzmPOhmaYNrcaLX/iKza2lplZmaqpqZGffr0CfnvLfeLZWZmKjMzM6htP//8c02ePFn5+fnauHFjl8GgJMXHxys+Pr7d83FxcbZv5OOM71avP/Z92v+84doG3ROO/e//ei/b11uYL7Q6F662hbobrGi27bT/gTnhWiFcXtz1ue//09e8rqLCUe3W3w3/OY86GYpg2txotf+IrJ62S7adVObgwYOaNGmScnJy9MADD+jLL79UVVWVqqqqzC4aAACAY3W23m1lTb2JpUIgX9QeNbsIsDDbhvBbtmzRZ599ps8++0yDBg3ye81ivWABAAAcg/Vu7eF/y//m+39nWVxAsnGG8LrrrpNhGB3+AwAAPVNVQ0YBHWtd77Yt1ru1FrK4CIVtA0IAABBebTMKF6zeruKyChNLA6tivVvrC5TFBY5n2y6jAAD7+qL2qNKSuXi0ks4yCgXDsrjQRzszx+aqYFiW9lfXaUhmEnXEYlqzuG2DQrK46AwZQgBAVBw/noXsk7WQUUCostMSNe6kDIJBC2rN4rZ27Y3xiCwuOkWGEAAQcWSfrI+MAuAsM8fmalxeXz390lZdcdFk5Wamml0kWBQZQgBAxJF9sj7GhQHOk52WoJPTDGWntV+UHmhFhhAAEHFkn+yBcWEA4D5kCAEAPpFaaoDxLPbBuDAAcBcCQgBwuWgtNTBzbK623Vqgm05r1rZbC1ggGQAACyAgBAAXi/bixYxnAQDAWggIAcDFmOzFXiLVpRcAwoE2yp4ICAHAxVone2mLyV6sJVpdegGgO2ij7I+AEABcjKUGrC3aXXoBIBS0Uc7AshMA4HIsNWBdgbr08jsBMBttlDMQEAIAlJ2WyMnbgli/EfhOVc1RDc1KMbsYaIM2yhnoMgoAgEXRpRdux/g0a6ONcgYyhAAAWBhdeuFWnY1PKxiWxXFgIbRR9kdA6FB0qwAA56BLL9yI8Wn2QRtlb3QZdRC6VQAAAKdgWRwgOggIHYJpf93pi1oWgAUAOBPj04DooMuoQ9Ctwn662623bSZ4+prXVVQ4SjPH5oazaAAAWALj04DII0PoEHSrsIeeduslEwwAcJvstESNOymDYBCIEAJCh6BbhfWFI5gLlAkGAAAAQkWXUQeJRLcKZisNn3B062UBWAAAAIQTGUKHCUe3CmYrjYxwdOttzQS3vk+MR2SCAQCWV1XDJGiAVREQwg9j1CInXN16Z47N1bZbC3TTac3admsBE8oAACyJG8yAPdBlFH6YrTSywtWtNzstQSenGcpOSwhzCQG4AcMBEGmd3WAuGJbF9QRgMWQI4YfZSiOP2dIAmIFsDaKJSdDsh2697kVACD/MVgoAzsNwAEQbN5jtgRtFkOgyig6wCCyAnqA7ovUwHADR1nqD+Y7N76vZMLjBbEF060UrAkJ0KDstkcYAQDudBXvH32UuKhzFhEcWwpI1MAM3mK2NG0VoRZdRAEBAXXUpojuitXQ0DojhADAL4+atK9RuvYwxdC4CQhfjwLY+fiOYLZhgj8kjzBfMOKCZY3O1c9FkPXnD97Rz0WQyuLAcznnRFcyNIsYYugMBoctwYFsfvxGsJJhgj8kjzBVKhpZsDayGc565At0ooveHexAQuggHtvXxG8Fqggn26I5oLjK0sCvOedbQ2Y0i2hb3YFIZF2HwsPXxG8Fqgp0pkMkjzMOEMbArznnWRtviHgSELsKBbX38RrCiYIM9Zic2B9P7w64451kbbYt7EBC6CAe29fEbwaoI9qyNDC3siHOe9dG2uAMBoctwYFsfvxGA7iBohx1xzrM+2hbnIyB0IQ5s6+M3AgC4Bec8wFzMMgoAAAAALkVACAAAAAAuRUAIAAAAAC5FQAgAAAAALkVACAAAAAAu5fpZRg3j2Gqohw8fVlxcnMmlAYLj9XpVV1en2tpa6i1shboLO6Lewq6ou+5QW1sr6bu4JlSuDwi/+uorSVJeXp7JJQEAAACA7jl8+LDS0tJC/jvXB4Tp6emSpIqKim7tQMAMtbW1ysnJ0YEDB9SnTx+ziwMEjboLO6Lewq6ou+5gGIYOHz6sgQMHduvvXR8QxsQcG0aZlpbGgQLb6dOnD/UWtkTdhR1Rb2FX1F3n60lii0llAAAAAMClCAgBAAAAwKVcHxDGx8dryZIlio+PN7soQNCot7Ar6i7siHoLu6LuIhgeo7vzkwIAAAAAbM31GUIAAAAAcCsCQgAAAABwKQJCAAAAAHApVweEDz74oPLy8pSQkKD8/Hy99tprZhcJ8CkqKtLYsWOVmpqqfv366dJLL9Unn3zit41hGLrnnns0cOBAJSYmatKkSfrggw9MKjHQsaKiInk8Hs2bN8/3HHUXVvT555/r6quvVkZGhpKSknT66aervLzc9zr1FlbU1NSkn/zkJ8rLy1NiYqKGDh2qe++9Vy0tLb5tqLsIxLUBYXFxsebNm6c777xT77zzjs4991xdeOGFqqioMLtogCRp+/btmjNnjt544w2VlJSoqalJU6dO1ZEjR3zb3H///Vq9erXWrVunsrIyDRgwQFOmTNHhw4dNLDnwnbKyMm3YsEGjR4/2e566C6v5+uuvNX78eMXFxekPf/iDPvzwQ61atUonnHCCbxvqLazovvvu00MPPaR169bpo48+0v3336+VK1dq7dq1vm2ouwjIcKmzzjrLmD17tt9zw4cPNxYtWmRSiYDADh06ZEgytm/fbhiGYbS0tBgDBgwwVqxY4dvm6NGjRlpamvHQQw+ZVUzA5/Dhw8bJJ59slJSUGBMnTjTmzp1rGAZ1F9Z0++23GxMmTOj0deotrGrGjBnGrFmz/J4rLCw0rr76asMwqLvomiszhI2NjSovL9fUqVP9np86dapef/11k0oFBFZTUyNJSk9PlyTt27dPVVVVfvU4Pj5eEydOpB7DEubMmaMZM2boggsu8HueugsrevHFFzVmzBhdfvnl6tevn8444ww98sgjvtept7CqCRMm6NVXX9Wnn34qSXr33Xe1c+dOXXTRRZKou+haL7MLYIbq6mo1Nzerf//+fs/3799fVVVVJpUK6JxhGFqwYIEmTJigkSNHSpKvrnZUj//6179GvYxAW0899ZTKy8u1a9eudq9Rd2FFf/nLX7R+/XotWLBAd9xxh9566y3dcsstio+P17XXXku9hWXdfvvtqqmp0fDhwxUbG6vm5mb97Gc/0w9+8ANJtLnomisDwlYej8fvsWEY7Z4DrOCmm27Se++9p507d7Z7jXoMqzlw4IDmzp2rLVu2KCEhodPtqLuwkpaWFo0ZM0bLly+XJJ1xxhn64IMPtH79el177bW+7ai3sJri4mI9/vjjeuKJJzRixAjt3r1b8+bN08CBA/XDH/7Qtx11F51xZZfRzMxMxcbGtssGHjp0qN3dE8BsN998s1588UVt3bpVgwYN8j0/YMAASaIew3LKy8t16NAh5efnq1evXurVq5e2b9+uNWvWqFevXr76Sd2FlWRnZ+u0007ze+7UU0/1TTZHmwurWrhwoRYtWqR///d/16hRo3TNNddo/vz5KioqkkTdRddcGRD27t1b+fn5Kikp8Xu+pKRE55xzjkmlAvwZhqGbbrpJmzdvVmlpqfLy8vxez8vL04ABA/zqcWNjo7Zv3049hqnOP/987dmzR7t37/b9GzNmjK666irt3r1bQ4cOpe7CcsaPH99uaZ9PP/1UgwcPlkSbC+uqq6tTTIz/JX1sbKxv2QnqLrri2i6jCxYs0DXXXKMxY8Zo3Lhx2rBhgyoqKjR79myziwZIOjYhxxNPPKEXXnhBqampvjt7aWlpSkxM9K3rtnz5cp188sk6+eSTtXz5ciUlJenKK680ufRws9TUVN9Y11bJycnKyMjwPU/dhdXMnz9f55xzjpYvX64rrrhCb731ljZs2KANGzZIEm0uLOtf//Vf9bOf/Uy5ubkaMWKE3nnnHa1evVqzZs2SRN1FEEyc4dR0v/zlL43BgwcbvXv3Ns4880zfdP6AFUjq8N/GjRt927S0tBhLliwxBgwYYMTHxxsFBQXGnj17zCs00Im2y04YBnUX1vS73/3OGDlypBEfH28MHz7c2LBhg9/r1FtYUW1trTF37lwjNzfXSEhIMIYOHWrceeedRkNDg28b6i4C8RiGYZgZkAIAAAAAzOHKMYQAAAAAAAJCAAAAAHAtAkIAAAAAcCkCQgAAAABwKQJCAAAAAHApAkIAAAAAcCkCQgAAAABwKQJCAAAAAHApAkIAgKt5PB49//zzZhcDAABTEBACACLq0KFDuvHGG5Wbm6v4+HgNGDBA06ZN0//93/+ZXTSEaNOmTZo0aVJIfzNp0iRt2rQpIuUBAPRcL7MLAABwtssuu0xer1ePPvqohg4dqi+++EKvvvqq/v73v5tdNHSisbFRvXv3NrsYAIAoIEMIAIiYb775Rjt37tR9992nyZMna/DgwTrrrLO0ePFizZgxw7fd6tWrNWrUKCUnJysnJ0c//vGP9Y9//MP3+qZNm3TCCSfo97//vU455RQlJSXp3/7t33TkyBE9+uijGjJkiPr27aubb75Zzc3Nvr8bMmSIli1bpiuvvFIpKSkaOHCg1q5dG7DMn3/+uWbOnKm+ffsqIyNDl1xyifbv3+97/brrrtOll16qBx54QNnZ2crIyNCcOXPk9Xp923TUDfWEE07wZcr2798vj8ejp59+Wueee64SExM1duxYffrppyorK9OYMWOUkpKi6dOn68svv2z32cuXL1f//v11wgknaOnSpWpqatLChQuVnp6uQYMG6Te/+U23vlNRUZEGDhyoYcOGBdxHoewLAIC1ERACACImJSVFKSkpev7559XQ0NDpdjExMVqzZo3ef/99PfrooyotLdVtt93mt01dXZ3WrFmjp556Sn/84x+1bds2FRYW6qWXXtJLL72kxx57TBs2bNCzzz7r93crV67U6NGj9fbbb2vx4sWaP3++SkpKOixHXV2dJk+erJSUFO3YsUM7d+70BWaNjY2+7bZu3aq9e/dq69atevTRR7Vp06ZudYtcsmSJfvKTn+jtt99Wr1699IMf/EC33XabfvGLX+i1117T3r17dffdd/v9TWlpqQ4ePKgdO3Zo9erVuueee/Qv//Iv6tu3r958803Nnj1bs2fP1oEDB0L6Tq+++qo++ugjlZSU6Pe//33Q3yFc+wIAYBIDAIAIevbZZ42+ffsaCQkJxjnnnGMsXrzYePfddwP+zdNPP21kZGT4Hm/cuNGQZHz22We+52688UYjKSnJOHz4sO+5adOmGTfeeKPv8eDBg43p06f7vffMmTONCy+80PdYkvHcc88ZhmEYv/71r41TTjnFaGlp8b3e0NBgJCYmGi+//LJhGIbxwx/+0Bg8eLDR1NTk2+byyy83Zs6c2eF7tkpLSzM2btxoGIZh7Nu3z5Bk/OpXv/K9/uSTTxqSjFdffdX3XFFRkXHKKaf4Hrd+dnNzs++5U045xTj33HN9j5uamozk5GTjySefDOk79e/f32hoaDBCEcy+AABYGxlCAEBEXXbZZTp48KBefPFFTZs2Tdu2bdOZZ57pl0XaunWrpkyZohNPPFGpqam69tpr9dVXX+nIkSO+bZKSknTSSSf5Hvfv319DhgxRSkqK33OHDh3y+/xx48a1e/zRRx91WNby8nJ99tlnSk1N9WU309PTdfToUe3du9e33YgRIxQbG+t7nJ2d3e5zgzF69Gi/skvSqFGjAn6fESNGKCYmxm+btn8TGxurjIwM398F+51GjRrVrXGD4doXAABzMKkMACDiEhISNGXKFE2ZMkV33323rr/+ei1ZskTXXXed/vrXv+qiiy7S7NmztWzZMqWnp2vnzp360Y9+5DcWLS4uzu89PR5Ph8+1tLR0WR6Px9Ph8y0tLcrPz9dvf/vbdq9lZWUFLEvbz/V4PDIMw2+bjsbVtX2f1jId/9zx3yfU/RDsd0pOTm73ejC6+xsAAKyBgBAAEHWnnXaab9KVXbt2qampSatWrfJlvp5++umwfdYbb7zR7vHw4cM73PbMM89UcXGx+vXrpz59+nT7M7OyslRZWel7/Oc//1l1dXXdfr+eCNd3AgA4E11GAQAR89VXX+m8887T448/rvfee0/79u3TM888o/vvv1+XXHKJJOmkk05SU1OT1q5dq7/85S967LHH9NBDD4WtDH/60590//3369NPP9Uvf/lLPfPMM5o7d26H21511VXKzMzUJZdcotdee0379u3T9u3bNXfuXP3tb38L+jPPO+88rVu3Tm+//bZ27dql2bNnt8ukRUu4vhMAwJkICAEAEZOSkqKzzz5b//M//6OCggKNHDlSd911l2644QatW7dOknT66adr9erVuu+++zRy5Ej99re/VVFRUdjKcOutt6q8vFxnnHGGli1bplWrVmnatGkdbpuUlKQdO3YoNzdXhYWFOvXUUzVr1izV19eHlF1btWqVcnJyVFBQoCuvvFL//d//raSkpHB9pZCE6zsBAJzJYxw/yAEAAIcYMmSI5s2bp3nz5pldFAAALIkMIQAAAAC4FAEhAAAAALgUXUYBAAAAwKXIEAIAAACASxEQAgAAAIBLERACAAAAgEsREAIAAACASxEQAgAAAIBLERACAAAAgEsREAIAAACASxEQAgAAAIBLERACAAAAgEsREAIAAACASxEQAgAAAIBLERACAAAAgEsREAIAAACASxEQAgAAAIBL/X8dxQuI8d95JgAAAABJRU5ErkJggg==' width=900.0/>\n            </div>\n        ",
      "application/vnd.jupyter.widget-view+json": {
       "version_major": 2,
       "version_minor": 0,
       "model_id": "0988ef78469e4a39a6f2fe0d838a8546"
      }
     },
     "metadata": {},
     "output_type": "display_data"
    }
   ],
   "source": [
    "# Parametre for sinusledd(ene)\n",
    "N = 94                        # Number of signal samples represented in the frequency domain\n",
    "Xm = 1j*np.zeros(N)            # \"Blank page\" DFT with room for N=64 frequency components\n",
    "\n",
    "# Add frequency component with A=2, phi=-pi/3 and frequency index m=4.\n",
    "# Match it with a complex conjugate \"twin\" in index m=N-4.\n",
    "Xm[N-6], Xm[6] = 2/2*N*exp(-1j*pi/3), 2/2*N*exp(1j*pi/3)\n",
    "Xm[N-9], Xm[9] = 2.3/2*N*exp(1j*3*pi/6), 2.3/2*N*exp(-1j*3*pi/6),\n",
    "\n",
    "# Perform Inverse Discrete Fourier Transformation\n",
    "xn = np.fft.ifft(Xm)\n",
    "\n",
    "# If the array 'xn' is a purely real signal, create a stem plot of the signal\n",
    "if(np.sum(np.absolute(np.imag(xn)))>1e-10):\n",
    "    print(\"DFT conjugate symmetry not maintained. IDFT produced complex signal.\")\n",
    "else:\n",
    "    plt.close(1); plt.figure(1, figsize=(9,3))\n",
    "    plt.stem(np.real(xn), # Real signal values (x[n])\n",
    "             linefmt='-', # Line style for stem lines\n",
    "             markerfmt='.', # Marker style set to '.'. Default is 'o' (big dot)\n",
    "             basefmt='grey', # Adjust color of baseline at x-axis\n",
    "            )\n",
    "    plt.xlabel(\"Samplenummer 'n'\")\n",
    "    plt.ylabel(\"x[n]\")\n",
    "    plt.xlim([0, N])\n",
    "    plt.grid(True)\n",
    "    plt.tight_layout()"
   ]
  },
  {
   "cell_type": "markdown",
   "metadata": {
    "deletable": false,
    "editable": false,
    "nbgrader": {
     "cell_type": "markdown",
     "checksum": "07d35441dea19b5fab7a03b881e0baaa",
     "grade": false,
     "grade_id": "cell-766c728aabc8e8c8",
     "locked": true,
     "points": 2,
     "schema_version": 3,
     "solution": false,
     "task": true
    }
   },
   "source": [
    "Run the code above and study the figures that are generated. It might also be beneficial to do some experimentation by adjusting some of the parameters and observing what happens.\n",
    "\n",
    "\n",
    "## a) \n",
    "* Add a new sinusoidal component with normalized angular frequency $ \\hat{\\omega} = \\frac{3\\pi}{16} $, amplitude $ A = 2.3 $, and phase $ \\phi = \\frac{3\\pi}{5} $ by adding a new element to the arrays `k`, `A`, and `phi`.<!--Legg til en ny sinuskomponent med normalisert vinkelfrekvens $\\hat{\\omega} = \\frac{3\\pi}{16}$, amplitude $A = 2.3$ og fase $\\phi = \\frac{3\\pi}{5}$ ved å legge til et nytt element arrayene `k`, `A` og `phi`.-->\n",
    "\n",
    "\n"
   ]
  },
  {
   "cell_type": "markdown",
   "metadata": {
    "deletable": false,
    "editable": false,
    "nbgrader": {
     "cell_type": "markdown",
     "checksum": "b05975db33d3fd6ec1e23a739b589036",
     "grade": false,
     "grade_id": "cell-aad7949ec57617cd",
     "locked": true,
     "points": 2,
     "schema_version": 3,
     "solution": false,
     "task": true
    }
   },
   "source": [
    "## b) \n",
    "* We want to generate more samples of the same signal. Make additional changes to the variables `k`, `A`, and `phi` as well as `N` to produce 96 samples instead of 64. Ensure that the angular frequencies of the sinusoidal components remain unchanged."
   ]
  },
  {
   "cell_type": "markdown",
   "metadata": {
    "deletable": false,
    "editable": false,
    "nbgrader": {
     "cell_type": "markdown",
     "checksum": "9e5b4b94b0dd5544cbfbc1a899adb831",
     "grade": false,
     "grade_id": "cell-31c72b25e32582ac",
     "locked": true,
     "points": 2,
     "schema_version": 3,
     "solution": false,
     "task": true
    }
   },
   "source": [
    "## c)\n",
    "* Subject the entire signal to time-referseal (e.g. $y[n] = x[-n]$). The connection bewteen time-domain reversal, and it's frequency-domain equivalent is described below:\n",
    "$$\\begin{align}\n",
    "y[n] &= x[-n] \\\\\n",
    "&\\Downarrow \\\\\n",
    "Y(f) &= X^{*}(f)\n",
    "\\end{align}\n",
    "$$\n",
    "  \n",
    "<!--\n",
    "* Differentiate the signal in the frequency domain by multiplying $X[m]$ by $j\\omega[m]$.\n",
    "* Subject the entire signal to  $M=-17$ samples of time delay by adjusting the phase of the frequency components. Remember, shifting in the time domain equals complex rotation in frequency domain:\n",
    "\n",
    "$$\\begin{align}\n",
    "y[n] &= x[n-M]\\\\\n",
    "&\\Downarrow \\\\\n",
    "Y(f) &= X(f) \\cdot e^{-j2\\pi f\\cdot M} \n",
    "\\end{align}$$-->"
   ]
  },
  {
   "cell_type": "markdown",
   "metadata": {},
   "source": [
    "*PS: [Here](Figures/task2_sol.png) is what the graph shuld look like after completion of tasks **a)** through **c)***."
   ]
  }
 ],
 "metadata": {
  "kernelspec": {
   "display_name": "Python 3 (ipykernel)",
   "language": "python",
   "name": "python3"
  },
  "language_info": {
   "codemirror_mode": {
    "name": "ipython",
    "version": 3
   },
   "file_extension": ".py",
   "mimetype": "text/x-python",
   "name": "python",
   "nbconvert_exporter": "python",
   "pygments_lexer": "ipython3",
   "version": "3.12.2"
  }
 },
 "nbformat": 4,
 "nbformat_minor": 4
}
